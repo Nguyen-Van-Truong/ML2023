{
  "nbformat": 4,
  "nbformat_minor": 0,
  "metadata": {
    "colab": {
      "provenance": [],
      "include_colab_link": true
    },
    "kernelspec": {
      "name": "python3",
      "display_name": "Python 3"
    },
    "language_info": {
      "name": "python"
    }
  },
  "cells": [
    {
      "cell_type": "markdown",
      "metadata": {
        "id": "view-in-github",
        "colab_type": "text"
      },
      "source": [
        "<a href=\"https://colab.research.google.com/github/Nguyen-Van-Truong/ML2023/blob/main/Lab_5_20130187_NguyenVanTruong.ipynb\" target=\"_parent\"><img src=\"https://colab.research.google.com/assets/colab-badge.svg\" alt=\"Open In Colab\"/></a>"
      ]
    },
    {
      "cell_type": "markdown",
      "source": [
        "# This lab is to deal with **SVM** to classification tasks and compare its performance with other competitive algorithms. In general, **SVM** is one of the most popular and widely used supervised machine learning algorithms.\n",
        "\n",
        "*   **Deadline: 23:59, 17/03/2023**\n",
        "\n"
      ],
      "metadata": {
        "id": "LMzehe0sy5wr"
      }
    },
    {
      "cell_type": "markdown",
      "source": [
        "# Import libraries"
      ],
      "metadata": {
        "id": "H4nJmxp9zGX4"
      }
    },
    {
      "cell_type": "code",
      "execution_count": 3,
      "metadata": {
        "id": "DoVWQ8AEyc-C",
        "colab": {
          "base_uri": "https://localhost:8080/"
        },
        "outputId": "7b48e20a-d327-4ea5-ac34-d2e12f87a602"
      },
      "outputs": [
        {
          "output_type": "stream",
          "name": "stdout",
          "text": [
            "Drive already mounted at /content/gdrive; to attempt to forcibly remount, call drive.mount(\"/content/gdrive\", force_remount=True).\n",
            "/content/gdrive/MyDrive/ML/lab5\n"
          ]
        }
      ],
      "source": [
        "# code\n",
        "from sklearn import datasets\n",
        "from prettytable import PrettyTable\n",
        "from sklearn.model_selection import train_test_split\n",
        "from sklearn.linear_model import LogisticRegression\n",
        "from sklearn import svm\n",
        "from sklearn.metrics import accuracy_score, precision_score, recall_score, f1_score\n",
        "from sklearn.metrics import confusion_matrix\n",
        "from sklearn.neighbors import KNeighborsClassifier\n",
        "from sklearn.tree import DecisionTreeClassifier\n",
        "from sklearn.metrics import classification_report\n",
        "import pandas as pd\n",
        "\n",
        "from google.colab import drive\n",
        "drive.mount('/content/gdrive')\n",
        "%cd '/content/gdrive/MyDrive/ML/lab5'"
      ]
    },
    {
      "cell_type": "markdown",
      "source": [
        "#Task 1. \n",
        "For breast cancer dataset (https://tinyurl.com/3vme8hr3) which could be loaded from datasets in sklearn as follows:\n",
        "\n",
        "```\n",
        "#Import scikit-learn dataset library\n",
        "from sklearn import datasets\n",
        "\n",
        "#Load dataset\n",
        "cancer = datasets.load_breast_cancer()\n",
        "```\n",
        "\n",
        "*   1.1.\tApply SVM algorithm to above dataset using linear kernel.\n",
        "*   1.2.\tCompare the obtained results with other competitive algorithms (Logistic Regression, Decision Tree, kNN) based on metrics: accuracy, precision, recall, f1 measures.\n",
        "\n"
      ],
      "metadata": {
        "id": "kNv07ARGzOUm"
      }
    },
    {
      "cell_type": "code",
      "source": [
        "# code\n",
        "cancer = datasets.load_breast_cancer()\n",
        "X = cancer.data\n",
        "y = cancer.target\n",
        "\n",
        "X_train, X_test, y_train, y_test = train_test_split(X, y, test_size=0.3, random_state=51)\n",
        "\n",
        "clf = svm.SVC(kernel='linear')\n",
        "clf.fit(X_train, y_train)\n",
        "y_pred_clf = clf.predict(X_test)\n",
        "\n",
        "lr1 = LogisticRegression(random_state=41)\n",
        "lr1.fit(X_train,y_train)\n",
        "y_predl_lr = lr1.predict(X_test)\n",
        "\n",
        "knn = KNeighborsClassifier(n_neighbors=5)\n",
        "knn.fit(X_train,y_train)\n",
        "y_pred_knn = knn.predict(X_test)\n",
        "\n",
        "dt = DecisionTreeClassifier(random_state=42)\n",
        "dt.fit(X_train,y_train)\n",
        "y_pred_dt = knn.predict(X_test)\n",
        "\n",
        "# t = PrettyTable(['algorithm','accuracy_score','recall_score'])\n",
        "# t.add_row(['Linear Kernel',accuracy_score(y_test,y_pred_clf),recall_score(y_test, y_pred_clf, average='weighted')])\n",
        "# t.add_row(['LogisticRegression',accuracy_score(y_test,y_predl_lr),recall_score(y_test, y_predl_lr, average='weighted')])\n",
        "# print(t)\n",
        "\n",
        "print('Linenear Kernel', classification_report(y_test, y_pred_clf,digits=4))\n",
        "print('LogisticRegression',classification_report(y_test, y_predl_lr,digits=4))\n",
        "print('KNN',classification_report(y_test, y_pred_knn,digits=4))\n",
        "print('Descession Tree',classification_report(y_test, y_pred_dt,digits=4))\n"
      ],
      "metadata": {
        "id": "sOsg77IBzEyo",
        "colab": {
          "base_uri": "https://localhost:8080/"
        },
        "outputId": "e644dc07-ef19-40ed-e506-6434a91930d0"
      },
      "execution_count": null,
      "outputs": [
        {
          "output_type": "stream",
          "name": "stderr",
          "text": [
            "/usr/local/lib/python3.9/dist-packages/sklearn/linear_model/_logistic.py:458: ConvergenceWarning: lbfgs failed to converge (status=1):\n",
            "STOP: TOTAL NO. of ITERATIONS REACHED LIMIT.\n",
            "\n",
            "Increase the number of iterations (max_iter) or scale the data as shown in:\n",
            "    https://scikit-learn.org/stable/modules/preprocessing.html\n",
            "Please also refer to the documentation for alternative solver options:\n",
            "    https://scikit-learn.org/stable/modules/linear_model.html#logistic-regression\n",
            "  n_iter_i = _check_optimize_result(\n"
          ]
        },
        {
          "output_type": "stream",
          "name": "stdout",
          "text": [
            "Linenear Kernel               precision    recall  f1-score   support\n",
            "\n",
            "           0     0.9333    0.9180    0.9256        61\n",
            "           1     0.9550    0.9636    0.9593       110\n",
            "\n",
            "    accuracy                         0.9474       171\n",
            "   macro avg     0.9441    0.9408    0.9424       171\n",
            "weighted avg     0.9472    0.9474    0.9473       171\n",
            "\n",
            "LogisticRegression               precision    recall  f1-score   support\n",
            "\n",
            "           0     0.9455    0.8525    0.8966        61\n",
            "           1     0.9224    0.9727    0.9469       110\n",
            "\n",
            "    accuracy                         0.9298       171\n",
            "   macro avg     0.9339    0.9126    0.9217       171\n",
            "weighted avg     0.9306    0.9298    0.9289       171\n",
            "\n",
            "KNN               precision    recall  f1-score   support\n",
            "\n",
            "           0     0.8983    0.8689    0.8833        61\n",
            "           1     0.9286    0.9455    0.9369       110\n",
            "\n",
            "    accuracy                         0.9181       171\n",
            "   macro avg     0.9134    0.9072    0.9101       171\n",
            "weighted avg     0.9178    0.9181    0.9178       171\n",
            "\n",
            "Descession Tree               precision    recall  f1-score   support\n",
            "\n",
            "           0     0.8983    0.8689    0.8833        61\n",
            "           1     0.9286    0.9455    0.9369       110\n",
            "\n",
            "    accuracy                         0.9181       171\n",
            "   macro avg     0.9134    0.9072    0.9101       171\n",
            "weighted avg     0.9178    0.9181    0.9178       171\n",
            "\n"
          ]
        }
      ]
    },
    {
      "cell_type": "markdown",
      "source": [
        "#Task 2. \n",
        "\n",
        "*   1.1.\tPerform SVM algorithm to **Iris dataset** using **linear kernel**.\n",
        "*   1.2.\tCompare the obtained results in 1.1 with SVM using other kernels (**Polynomial Kernel, Gaussian Kernel, Sigmoid Kernel, Radial Basis Function Kernel**). Some metrics could be used: accuracy, precision, recall, f1 measures\n",
        "\n",
        "\n",
        "\n"
      ],
      "metadata": {
        "id": "S43IoUT-0OQq"
      }
    },
    {
      "cell_type": "code",
      "source": [
        "# code\n",
        "iris_datasets = datasets.load_iris()\n",
        "X = iris_datasets.data\n",
        "y = iris_datasets.target\n",
        "\n",
        "X_train, X_test, y_train, y_test = train_test_split(X, y, test_size=0.3, random_state=51)\n",
        "\n",
        "iris_clf_linear = svm.SVC(kernel='linear',degree=6)\n",
        "iris_clf_linear.fit(X_train, y_train)\n",
        "y_pred_iris_clf_linear = iris_clf_linear.predict(X_test)\n",
        "\n",
        "iris_clf_poly = svm.SVC(kernel='poly')\n",
        "iris_clf_poly.fit(X_train, y_train)\n",
        "y_pred_iris_clf_poly = iris_clf_poly.predict(X_test)\n",
        "\n",
        "iris_clf_rbf = svm.SVC(kernel='rbf')\n",
        "iris_clf_rbf.fit(X_train, y_train)\n",
        "y_pred_iris_clf_rbf = iris_clf_rbf.predict(X_test)\n",
        "\n",
        "iris_clf_sigmoid = svm.SVC(kernel='sigmoid')\n",
        "iris_clf_sigmoid.fit(X_train, y_train)\n",
        "y_pred_iris_clf_sigmoid = iris_clf_sigmoid.predict(X_test)\n",
        "\n",
        "\n",
        "print('Linenear Kernel', classification_report(y_test, y_pred_iris_clf_linear,digits=4))\n",
        "print('Polynomial Kernel', classification_report(y_test, y_pred_iris_clf_poly,digits=4))\n",
        "print('Function Kernel', classification_report(y_test, y_pred_iris_clf_rbf,digits=4))\n",
        "print('Sigmoid Kernel', classification_report(y_test, y_pred_iris_clf_sigmoid,digits=4))\n",
        "\n"
      ],
      "metadata": {
        "id": "_xhPpF5b033h",
        "colab": {
          "base_uri": "https://localhost:8080/"
        },
        "outputId": "6ebdbb19-9066-45e6-8dac-ef9863f39eb5"
      },
      "execution_count": 4,
      "outputs": [
        {
          "output_type": "stream",
          "name": "stdout",
          "text": [
            "Linenear Kernel               precision    recall  f1-score   support\n",
            "\n",
            "           0     1.0000    1.0000    1.0000        11\n",
            "           1     0.9444    1.0000    0.9714        17\n",
            "           2     1.0000    0.9412    0.9697        17\n",
            "\n",
            "    accuracy                         0.9778        45\n",
            "   macro avg     0.9815    0.9804    0.9804        45\n",
            "weighted avg     0.9790    0.9778    0.9778        45\n",
            "\n",
            "Polynomial Kernel               precision    recall  f1-score   support\n",
            "\n",
            "           0     1.0000    1.0000    1.0000        11\n",
            "           1     1.0000    0.9412    0.9697        17\n",
            "           2     0.9444    1.0000    0.9714        17\n",
            "\n",
            "    accuracy                         0.9778        45\n",
            "   macro avg     0.9815    0.9804    0.9804        45\n",
            "weighted avg     0.9790    0.9778    0.9778        45\n",
            "\n",
            "Function Kernel               precision    recall  f1-score   support\n",
            "\n",
            "           0     1.0000    1.0000    1.0000        11\n",
            "           1     0.8947    1.0000    0.9444        17\n",
            "           2     1.0000    0.8824    0.9375        17\n",
            "\n",
            "    accuracy                         0.9556        45\n",
            "   macro avg     0.9649    0.9608    0.9606        45\n",
            "weighted avg     0.9602    0.9556    0.9554        45\n",
            "\n",
            "Sigmoid Kernel               precision    recall  f1-score   support\n",
            "\n",
            "           0     0.2444    1.0000    0.3929        11\n",
            "           1     0.0000    0.0000    0.0000        17\n",
            "           2     0.0000    0.0000    0.0000        17\n",
            "\n",
            "    accuracy                         0.2444        45\n",
            "   macro avg     0.0815    0.3333    0.1310        45\n",
            "weighted avg     0.0598    0.2444    0.0960        45\n",
            "\n"
          ]
        },
        {
          "output_type": "stream",
          "name": "stderr",
          "text": [
            "/usr/local/lib/python3.9/dist-packages/sklearn/metrics/_classification.py:1344: UndefinedMetricWarning: Precision and F-score are ill-defined and being set to 0.0 in labels with no predicted samples. Use `zero_division` parameter to control this behavior.\n",
            "  _warn_prf(average, modifier, msg_start, len(result))\n",
            "/usr/local/lib/python3.9/dist-packages/sklearn/metrics/_classification.py:1344: UndefinedMetricWarning: Precision and F-score are ill-defined and being set to 0.0 in labels with no predicted samples. Use `zero_division` parameter to control this behavior.\n",
            "  _warn_prf(average, modifier, msg_start, len(result))\n",
            "/usr/local/lib/python3.9/dist-packages/sklearn/metrics/_classification.py:1344: UndefinedMetricWarning: Precision and F-score are ill-defined and being set to 0.0 in labels with no predicted samples. Use `zero_division` parameter to control this behavior.\n",
            "  _warn_prf(average, modifier, msg_start, len(result))\n"
          ]
        }
      ]
    },
    {
      "cell_type": "markdown",
      "source": [
        "#Task 3. \n",
        "Compare the performance of selected classification algorithms (Decision Tree, kNN, Logistic Regression) and SVM (using different kernels) with mnist dataset based on accuracy, precision, recall, f1 measures.\n"
      ],
      "metadata": {
        "id": "b52OPWPD2afi"
      }
    },
    {
      "cell_type": "code",
      "source": [
        "mnist = datasets.load_digits()\n",
        "X = mnist.data\n",
        "y = mnist.target\n",
        "\n",
        "X_train, X_test, y_train, y_test = train_test_split(X, y, test_size=0.3, random_state=51)\n",
        "\n",
        "mnist_clf_linear = svm.SVC(kernel='linear')\n",
        "mnist_clf_linear.fit(X_train, y_train)\n",
        "y_pred_mnist_clf_linear = mnist_clf_linear.predict(X_test)\n",
        "\n",
        "mnist_clf_poly = svm.SVC(kernel='poly')\n",
        "mnist_clf_poly.fit(X_train, y_train)\n",
        "y_pred_mnist_clf_poly = mnist_clf_poly.predict(X_test)\n",
        "\n",
        "mnist_clf_rbf = svm.SVC(kernel='rbf')\n",
        "mnist_clf_rbf.fit(X_train, y_train)\n",
        "y_pred_mnist_clf_rbf = mnist_clf_rbf.predict(X_test)\n",
        "\n",
        "mnist_clf_sigmoid = svm.SVC(kernel='sigmoid')\n",
        "mnist_clf_sigmoid.fit(X_train, y_train)\n",
        "y_pred_mnist_clf_sigmoid = mnist_clf_sigmoid.predict(X_test)\n",
        "\n",
        "\n",
        "print('Linenear Kernel', classification_report(y_test, y_pred_mnist_clf_linear,digits=4))\n",
        "print('Polynomial Kernel', classification_report(y_test, y_pred_mnist_clf_poly,digits=4))\n",
        "print('Function Kernel', classification_report(y_test, y_pred_mnist_clf_rbf,digits=4))\n",
        "print('Sigmoid Kernel', classification_report(y_test, y_pred_mnist_clf_sigmoid,digits=4))"
      ],
      "metadata": {
        "colab": {
          "base_uri": "https://localhost:8080/"
        },
        "id": "9utDaQlRVFoU",
        "outputId": "6ad41d2c-e7ee-48d3-ca34-ce8e52be7754"
      },
      "execution_count": 5,
      "outputs": [
        {
          "output_type": "stream",
          "name": "stdout",
          "text": [
            "Linenear Kernel               precision    recall  f1-score   support\n",
            "\n",
            "           0     1.0000    1.0000    1.0000        58\n",
            "           1     0.8814    1.0000    0.9369        52\n",
            "           2     0.9783    1.0000    0.9890        45\n",
            "           3     1.0000    0.9818    0.9908        55\n",
            "           4     1.0000    0.9831    0.9915        59\n",
            "           5     1.0000    0.9828    0.9913        58\n",
            "           6     1.0000    0.9831    0.9915        59\n",
            "           7     1.0000    1.0000    1.0000        41\n",
            "           8     0.9800    0.9074    0.9423        54\n",
            "           9     0.9831    0.9831    0.9831        59\n",
            "\n",
            "    accuracy                         0.9815       540\n",
            "   macro avg     0.9823    0.9821    0.9816       540\n",
            "weighted avg     0.9829    0.9815    0.9817       540\n",
            "\n",
            "Polynomial Kernel               precision    recall  f1-score   support\n",
            "\n",
            "           0     1.0000    1.0000    1.0000        58\n",
            "           1     0.9286    1.0000    0.9630        52\n",
            "           2     0.9783    1.0000    0.9890        45\n",
            "           3     1.0000    0.9636    0.9815        55\n",
            "           4     1.0000    1.0000    1.0000        59\n",
            "           5     0.9828    0.9828    0.9828        58\n",
            "           6     1.0000    0.9661    0.9828        59\n",
            "           7     1.0000    1.0000    1.0000        41\n",
            "           8     0.9623    0.9444    0.9533        54\n",
            "           9     0.9831    0.9831    0.9831        59\n",
            "\n",
            "    accuracy                         0.9833       540\n",
            "   macro avg     0.9835    0.9840    0.9835       540\n",
            "weighted avg     0.9838    0.9833    0.9834       540\n",
            "\n",
            "Function Kernel               precision    recall  f1-score   support\n",
            "\n",
            "           0     1.0000    1.0000    1.0000        58\n",
            "           1     0.9455    1.0000    0.9720        52\n",
            "           2     1.0000    1.0000    1.0000        45\n",
            "           3     0.9818    0.9818    0.9818        55\n",
            "           4     1.0000    0.9831    0.9915        59\n",
            "           5     1.0000    1.0000    1.0000        58\n",
            "           6     1.0000    1.0000    1.0000        59\n",
            "           7     1.0000    1.0000    1.0000        41\n",
            "           8     0.9808    0.9444    0.9623        54\n",
            "           9     0.9831    0.9831    0.9831        59\n",
            "\n",
            "    accuracy                         0.9889       540\n",
            "   macro avg     0.9891    0.9892    0.9891       540\n",
            "weighted avg     0.9891    0.9889    0.9889       540\n",
            "\n",
            "Sigmoid Kernel               precision    recall  f1-score   support\n",
            "\n",
            "           0     0.9667    1.0000    0.9831        58\n",
            "           1     0.7692    0.7692    0.7692        52\n",
            "           2     0.9362    0.9778    0.9565        45\n",
            "           3     0.9778    0.8000    0.8800        55\n",
            "           4     0.9444    0.8644    0.9027        59\n",
            "           5     0.9667    1.0000    0.9831        58\n",
            "           6     0.9344    0.9661    0.9500        59\n",
            "           7     0.8367    1.0000    0.9111        41\n",
            "           8     0.8800    0.8148    0.8462        54\n",
            "           9     0.8871    0.9322    0.9091        59\n",
            "\n",
            "    accuracy                         0.9111       540\n",
            "   macro avg     0.9099    0.9125    0.9091       540\n",
            "weighted avg     0.9131    0.9111    0.9101       540\n",
            "\n"
          ]
        }
      ]
    },
    {
      "cell_type": "markdown",
      "source": [
        "#Task 4. \n",
        "Compare the performance of selected classification algorithms (Decision Tree, kNN, Logistic Regression) and SVM (using different kernels) with **credit card dataset** based on accuracy, precision, recall, f1 measures.\n",
        "\n",
        "*   Give some comments on the obtained results\n",
        "*   Identify issues with dataset, and propose the solutions to these issues\n",
        "\n"
      ],
      "metadata": {
        "id": "Z5pp7_h-aP2u"
      }
    },
    {
      "cell_type": "code",
      "source": [
        "creditcard = pd.read_csv(\"creditcard.csv\")\n",
        "\n",
        "X = creditcard.iloc[:, :-1].values\n",
        "y = creditcard.iloc[:, -1].values\n",
        "\n",
        "X_train, X_test, y_train, y_test = train_test_split(X, y, train_size=0.02, test_size=0.002, random_state=51)\n",
        "\n",
        "clf = svm.SVC(kernel='linear')\n",
        "clf.fit(X_train, y_train)\n",
        "y_pred_clf = clf.predict(X_test)\n",
        "\n",
        "lr1 = LogisticRegression(random_state=41)\n",
        "lr1.fit(X_train,y_train)\n",
        "y_predl_lr = lr1.predict(X_test)\n",
        "\n",
        "knn = KNeighborsClassifier(n_neighbors=5)\n",
        "knn.fit(X_train,y_train)\n",
        "y_pred_knn = knn.predict(X_test)\n",
        "\n",
        "dt = DecisionTreeClassifier(random_state=42)\n",
        "dt.fit(X_train,y_train)\n",
        "y_pred_dt = knn.predict(X_test)\n",
        "\n",
        "# kernel\n",
        "mnist_clf_poly = svm.SVC(kernel='poly')\n",
        "mnist_clf_poly.fit(X_train, y_train)\n",
        "y_pred_mnist_clf_poly = mnist_clf_poly.predict(X_test)\n",
        "\n",
        "mnist_clf_rbf = svm.SVC(kernel='rbf')\n",
        "mnist_clf_rbf.fit(X_train, y_train)\n",
        "y_pred_mnist_clf_rbf = mnist_clf_rbf.predict(X_test)\n",
        "\n",
        "mnist_clf_sigmoid = svm.SVC(kernel='sigmoid')\n",
        "mnist_clf_sigmoid.fit(X_train, y_train)\n",
        "y_pred_mnist_clf_sigmoid = mnist_clf_sigmoid.predict(X_test)\n",
        "\n",
        "print('LogisticRegression',classification_report(y_test, y_predl_lr,digits=4))\n",
        "print('KNN',classification_report(y_test, y_pred_knn,digits=4))\n",
        "print('Descession Tree',classification_report(y_test, y_pred_dt,digits=4))\n",
        "\n",
        "print('Linenear Kernel', classification_report(y_test, y_pred_clf,digits=4))\n",
        "print('Polynomial Kernel', classification_report(y_test, y_pred_mnist_clf_poly,digits=4))\n",
        "print('Function Kernel', classification_report(y_test, y_pred_mnist_clf_rbf,digits=4))\n",
        "print('Sigmoid Kernel', classification_report(y_test, y_pred_mnist_clf_sigmoid,digits=4))"
      ],
      "metadata": {
        "id": "IlRVQ9A4bBps",
        "colab": {
          "base_uri": "https://localhost:8080/"
        },
        "outputId": "e1a15d05-c333-45f4-d2a1-834623d31152"
      },
      "execution_count": 10,
      "outputs": [
        {
          "output_type": "stream",
          "name": "stderr",
          "text": [
            "/usr/local/lib/python3.9/dist-packages/sklearn/linear_model/_logistic.py:458: ConvergenceWarning: lbfgs failed to converge (status=1):\n",
            "STOP: TOTAL NO. of ITERATIONS REACHED LIMIT.\n",
            "\n",
            "Increase the number of iterations (max_iter) or scale the data as shown in:\n",
            "    https://scikit-learn.org/stable/modules/preprocessing.html\n",
            "Please also refer to the documentation for alternative solver options:\n",
            "    https://scikit-learn.org/stable/modules/linear_model.html#logistic-regression\n",
            "  n_iter_i = _check_optimize_result(\n"
          ]
        },
        {
          "output_type": "stream",
          "name": "stdout",
          "text": [
            "LogisticRegression               precision    recall  f1-score   support\n",
            "\n",
            "           0     1.0000    1.0000    1.0000       568\n",
            "           1     1.0000    1.0000    1.0000         2\n",
            "\n",
            "    accuracy                         1.0000       570\n",
            "   macro avg     1.0000    1.0000    1.0000       570\n",
            "weighted avg     1.0000    1.0000    1.0000       570\n",
            "\n",
            "KNN               precision    recall  f1-score   support\n",
            "\n",
            "           0     0.9965    1.0000    0.9982       568\n",
            "           1     0.0000    0.0000    0.0000         2\n",
            "\n",
            "    accuracy                         0.9965       570\n",
            "   macro avg     0.4982    0.5000    0.4991       570\n",
            "weighted avg     0.9930    0.9965    0.9947       570\n",
            "\n",
            "Descession Tree               precision    recall  f1-score   support\n",
            "\n",
            "           0     0.9965    1.0000    0.9982       568\n",
            "           1     0.0000    0.0000    0.0000         2\n",
            "\n",
            "    accuracy                         0.9965       570\n",
            "   macro avg     0.4982    0.5000    0.4991       570\n",
            "weighted avg     0.9930    0.9965    0.9947       570\n",
            "\n",
            "Linenear Kernel               precision    recall  f1-score   support\n",
            "\n",
            "           0     0.9982    1.0000    0.9991       568\n",
            "           1     1.0000    0.5000    0.6667         2\n",
            "\n",
            "    accuracy                         0.9982       570\n",
            "   macro avg     0.9991    0.7500    0.8329       570\n",
            "weighted avg     0.9982    0.9982    0.9980       570\n",
            "\n",
            "Polynomial Kernel               precision    recall  f1-score   support\n",
            "\n",
            "           0     0.9965    1.0000    0.9982       568\n",
            "           1     0.0000    0.0000    0.0000         2\n",
            "\n",
            "    accuracy                         0.9965       570\n",
            "   macro avg     0.4982    0.5000    0.4991       570\n",
            "weighted avg     0.9930    0.9965    0.9947       570\n",
            "\n",
            "Function Kernel               precision    recall  f1-score   support\n",
            "\n",
            "           0     0.9965    1.0000    0.9982       568\n",
            "           1     0.0000    0.0000    0.0000         2\n",
            "\n",
            "    accuracy                         0.9965       570\n",
            "   macro avg     0.4982    0.5000    0.4991       570\n",
            "weighted avg     0.9930    0.9965    0.9947       570\n",
            "\n",
            "Sigmoid Kernel               precision    recall  f1-score   support\n",
            "\n",
            "           0     0.9965    1.0000    0.9982       568\n",
            "           1     0.0000    0.0000    0.0000         2\n",
            "\n",
            "    accuracy                         0.9965       570\n",
            "   macro avg     0.4982    0.5000    0.4991       570\n",
            "weighted avg     0.9930    0.9965    0.9947       570\n",
            "\n"
          ]
        },
        {
          "output_type": "stream",
          "name": "stderr",
          "text": [
            "/usr/local/lib/python3.9/dist-packages/sklearn/metrics/_classification.py:1344: UndefinedMetricWarning: Precision and F-score are ill-defined and being set to 0.0 in labels with no predicted samples. Use `zero_division` parameter to control this behavior.\n",
            "  _warn_prf(average, modifier, msg_start, len(result))\n",
            "/usr/local/lib/python3.9/dist-packages/sklearn/metrics/_classification.py:1344: UndefinedMetricWarning: Precision and F-score are ill-defined and being set to 0.0 in labels with no predicted samples. Use `zero_division` parameter to control this behavior.\n",
            "  _warn_prf(average, modifier, msg_start, len(result))\n",
            "/usr/local/lib/python3.9/dist-packages/sklearn/metrics/_classification.py:1344: UndefinedMetricWarning: Precision and F-score are ill-defined and being set to 0.0 in labels with no predicted samples. Use `zero_division` parameter to control this behavior.\n",
            "  _warn_prf(average, modifier, msg_start, len(result))\n",
            "/usr/local/lib/python3.9/dist-packages/sklearn/metrics/_classification.py:1344: UndefinedMetricWarning: Precision and F-score are ill-defined and being set to 0.0 in labels with no predicted samples. Use `zero_division` parameter to control this behavior.\n",
            "  _warn_prf(average, modifier, msg_start, len(result))\n",
            "/usr/local/lib/python3.9/dist-packages/sklearn/metrics/_classification.py:1344: UndefinedMetricWarning: Precision and F-score are ill-defined and being set to 0.0 in labels with no predicted samples. Use `zero_division` parameter to control this behavior.\n",
            "  _warn_prf(average, modifier, msg_start, len(result))\n",
            "/usr/local/lib/python3.9/dist-packages/sklearn/metrics/_classification.py:1344: UndefinedMetricWarning: Precision and F-score are ill-defined and being set to 0.0 in labels with no predicted samples. Use `zero_division` parameter to control this behavior.\n",
            "  _warn_prf(average, modifier, msg_start, len(result))\n",
            "/usr/local/lib/python3.9/dist-packages/sklearn/metrics/_classification.py:1344: UndefinedMetricWarning: Precision and F-score are ill-defined and being set to 0.0 in labels with no predicted samples. Use `zero_division` parameter to control this behavior.\n",
            "  _warn_prf(average, modifier, msg_start, len(result))\n",
            "/usr/local/lib/python3.9/dist-packages/sklearn/metrics/_classification.py:1344: UndefinedMetricWarning: Precision and F-score are ill-defined and being set to 0.0 in labels with no predicted samples. Use `zero_division` parameter to control this behavior.\n",
            "  _warn_prf(average, modifier, msg_start, len(result))\n",
            "/usr/local/lib/python3.9/dist-packages/sklearn/metrics/_classification.py:1344: UndefinedMetricWarning: Precision and F-score are ill-defined and being set to 0.0 in labels with no predicted samples. Use `zero_division` parameter to control this behavior.\n",
            "  _warn_prf(average, modifier, msg_start, len(result))\n",
            "/usr/local/lib/python3.9/dist-packages/sklearn/metrics/_classification.py:1344: UndefinedMetricWarning: Precision and F-score are ill-defined and being set to 0.0 in labels with no predicted samples. Use `zero_division` parameter to control this behavior.\n",
            "  _warn_prf(average, modifier, msg_start, len(result))\n",
            "/usr/local/lib/python3.9/dist-packages/sklearn/metrics/_classification.py:1344: UndefinedMetricWarning: Precision and F-score are ill-defined and being set to 0.0 in labels with no predicted samples. Use `zero_division` parameter to control this behavior.\n",
            "  _warn_prf(average, modifier, msg_start, len(result))\n",
            "/usr/local/lib/python3.9/dist-packages/sklearn/metrics/_classification.py:1344: UndefinedMetricWarning: Precision and F-score are ill-defined and being set to 0.0 in labels with no predicted samples. Use `zero_division` parameter to control this behavior.\n",
            "  _warn_prf(average, modifier, msg_start, len(result))\n",
            "/usr/local/lib/python3.9/dist-packages/sklearn/metrics/_classification.py:1344: UndefinedMetricWarning: Precision and F-score are ill-defined and being set to 0.0 in labels with no predicted samples. Use `zero_division` parameter to control this behavior.\n",
            "  _warn_prf(average, modifier, msg_start, len(result))\n",
            "/usr/local/lib/python3.9/dist-packages/sklearn/metrics/_classification.py:1344: UndefinedMetricWarning: Precision and F-score are ill-defined and being set to 0.0 in labels with no predicted samples. Use `zero_division` parameter to control this behavior.\n",
            "  _warn_prf(average, modifier, msg_start, len(result))\n",
            "/usr/local/lib/python3.9/dist-packages/sklearn/metrics/_classification.py:1344: UndefinedMetricWarning: Precision and F-score are ill-defined and being set to 0.0 in labels with no predicted samples. Use `zero_division` parameter to control this behavior.\n",
            "  _warn_prf(average, modifier, msg_start, len(result))\n"
          ]
        }
      ]
    },
    {
      "cell_type": "markdown",
      "source": [
        "#Finally,\n",
        "Save a copy in your Github. Remember renaming the notebook."
      ],
      "metadata": {
        "id": "Ok7RGkea_b7n"
      }
    }
  ]
}